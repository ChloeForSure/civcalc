{
 "cells": [
  {
   "cell_type": "markdown",
   "metadata": {},
   "source": [
    "Example notebook"
   ]
  },
  {
   "cell_type": "code",
   "execution_count": null,
   "metadata": {},
   "outputs": [],
   "source": [
    "import civcalc as cc"
   ]
  },
  {
   "cell_type": "code",
   "execution_count": 2,
   "metadata": {},
   "outputs": [],
   "source": [
    "workdir=\"C:/Users/Chloe/Documents/civMC/Economics/\"\n",
    "exchangeData=cc.loadExchanges(workdir+\"exchange.txt\")\n",
    "factoryData=cc.loadFactories(workdir+\"factories.txt\")\n",
    "sellData=cc.loadSellPrices(workdir+\"sellprice.txt\")"
   ]
  },
  {
   "cell_type": "code",
   "execution_count": 3,
   "metadata": {},
   "outputs": [],
   "source": [
    "def basicInfo(name,exchangeData,factoryData):\n",
    "    f=cc.calculatePrice(name,exchangeData,factoryData,returnFactory=True)[1]\n",
    "    print(\"Setup cost:\",cc.calculateSetupPrice(f,exchangeData,factoryData),\"d\")\n",
    "    print(\"Repair cost: \",cc.calculateRepairPrice(f,exchangeData,factoryData),\"d/20 days\")"
   ]
  },
  {
   "cell_type": "code",
   "execution_count": 4,
   "metadata": {},
   "outputs": [
    {
     "name": "stdout",
     "output_type": "stream",
     "text": [
      "The cost of a(n) netherite pickaxe is 34.63306451612903d\n",
      "\n",
      "Using the following recipe in the netherite pickaxe smith:\n",
      "Input\n",
      "3 netherite\n",
      "6 diamond\n",
      "4 charcoal\n",
      "Output:\n",
      "8 netherite pickaxe\n",
      "Setup cost: 1118.1935483870968 d\n",
      "Repair cost:  94.6989247311828 d/20 days\n"
     ]
    }
   ],
   "source": [
    "basicInfo(\"netherite pickaxe\",exchangeData,factoryData)\n"
   ]
  },
  {
   "cell_type": "code",
   "execution_count": 5,
   "metadata": {},
   "outputs": [
    {
     "name": "stdout",
     "output_type": "stream",
     "text": [
      "The price of making a(n) diamond pickaxe is 1.0344086021505376d\n",
      "The sellprice of diamond pickaxe is 1.5d\n",
      "The profit is 0.46559139784946235d\n",
      "The repair cost of diamond pickaxe smith is 12.849462365591396d\n",
      "To make a profit, you have to sell 27.59815242494226 diamond pickaxe every repair cycle (20 day)\n",
      "To get return on investment in 15 cycles (about 10.0 months), you have to sell 43.06235565819862 diamond pickaxe every repair cycle\n"
     ]
    },
    {
     "data": {
      "text/plain": [
       "27.59815242494226"
      ]
     },
     "execution_count": 5,
     "metadata": {},
     "output_type": "execute_result"
    }
   ],
   "source": [
    "cc.calculateProfitability(\"diamond pickaxe\",exchangeData,factoryData,sellData)"
   ]
  },
  {
   "cell_type": "code",
   "execution_count": 6,
   "metadata": {},
   "outputs": [
    {
     "name": "stdout",
     "output_type": "stream",
     "text": [
      "The price of making a(n) diamond axe is 0.5172043010752688d\n",
      "The sellprice of diamond axe is 1.0d\n",
      "The profit is 0.4827956989247312d\n",
      "The repair cost of diamond axe smith is 7.182795698924732d\n",
      "To make a profit, you have to sell 14.877505567928733 diamond axe every repair cycle (20 day)\n",
      "To get return on investment in 15 cycles (about 10.0 months), you have to sell 24.819599109131403 diamond axe every repair cycle\n"
     ]
    },
    {
     "data": {
      "text/plain": [
       "14.877505567928733"
      ]
     },
     "execution_count": 6,
     "metadata": {},
     "output_type": "execute_result"
    }
   ],
   "source": [
    "cc.calculateProfitability(\"diamond axe\",exchangeData,factoryData,sellData)"
   ]
  },
  {
   "cell_type": "code",
   "execution_count": 7,
   "metadata": {},
   "outputs": [
    {
     "data": {
      "text/plain": [
       "68.0"
      ]
     },
     "execution_count": 7,
     "metadata": {},
     "output_type": "execute_result"
    }
   ],
   "source": [
    "272/4"
   ]
  }
 ],
 "metadata": {
  "kernelspec": {
   "display_name": "Python 3",
   "language": "python",
   "name": "python3"
  },
  "language_info": {
   "codemirror_mode": {
    "name": "ipython",
    "version": 3
   },
   "file_extension": ".py",
   "mimetype": "text/x-python",
   "name": "python",
   "nbconvert_exporter": "python",
   "pygments_lexer": "ipython3",
   "version": "3.10.11"
  }
 },
 "nbformat": 4,
 "nbformat_minor": 2
}
